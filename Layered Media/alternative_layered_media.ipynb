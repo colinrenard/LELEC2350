{
 "cells": [
  {
   "cell_type": "code",
   "execution_count": 175,
   "metadata": {},
   "outputs": [],
   "source": [
    "import numpy as np\n",
    "import scipy as sp\n",
    "import matplotlib.pyplot as plt\n",
    "import matplotlib.animation as animation\n",
    "\n",
    "%matplotlib qt"
   ]
  },
  {
   "cell_type": "code",
   "execution_count": 176,
   "metadata": {},
   "outputs": [],
   "source": [
    "# Parameters definition\n",
    "\n",
    "c = 3e8\n",
    "pi = np.pi\n",
    "f = 1e10\n",
    "\n",
    "t = np.linspace(0, 100/f, 100)\n",
    "exp = np.exp(1j * 2 * pi * f * t)\n",
    "\n",
    "e0 = 8.85e-12\n",
    "mu0 = 4*pi*1e-7\n",
    "l0 = 15e-2\n",
    "n0 = 1\n",
    "eta0 = 377\n",
    "z0 = np.linspace(0, l0, 1500)\n",
    "\n",
    "n1 = 3\n",
    "e1 = n1**2 * e0\n",
    "l1 = 10e-2 \n",
    "z1 = np.linspace(0, l1, 1000)\n",
    "eta1 = eta0 / n1\n",
    "\n",
    "n2 = 1.5\n",
    "e2 = n2**2 * e0\n",
    "l2 = 5e-2\n",
    "z2 = np.linspace(0, l2, 500)\n",
    "eta2 = eta0 / n2\n",
    "\n",
    "n3 = 1\n",
    "e3 = n3**2 * e0\n",
    "l3 = 15e-2\n",
    "z3 = np.linspace(0, l3, 1500)\n",
    "eta3 = eta0 / n3"
   ]
  },
  {
   "cell_type": "code",
   "execution_count": 177,
   "metadata": {},
   "outputs": [],
   "source": [
    "def compute_rho_tau(n1, n2):\n",
    "    rho = (n1 - n2) / (n1 + n2)\n",
    "    tau = 2*n1 / (n1+n2)\n",
    "    return rho, tau\n",
    "\n",
    "def propagation(Ef0, Eb0, n, z):\n",
    "    k = 2 * pi * f * n / c\n",
    "    Ef = np.exp(1j * k * np.flip(z)) * Ef0\n",
    "    Eb = np.exp(-1j * k * np.flip(z)) * Eb0\n",
    "    return Ef, Eb\n",
    "\n",
    "def interface(rho, tau, Efp , Ebp):\n",
    "    Ef = (1/tau) * (Efp + rho*Ebp)\n",
    "    Eb = (1/tau) * (rho*Efp + Ebp)\n",
    "    return Ef, Eb\n"
   ]
  },
  {
   "cell_type": "code",
   "execution_count": 178,
   "metadata": {},
   "outputs": [
    {
     "name": "stdout",
     "output_type": "stream",
     "text": [
      "(0.8333333333333334-3.981133731623212e-15j)\n",
      "(0.8333333333333334-3.981133731623212e-15j)\n"
     ]
    }
   ],
   "source": [
    "Ef3 = np.zeros(len(z3), dtype='complex')\n",
    "Ef3, Eb3 = propagation(1, 0, n3, z3)               # Here, -z because we go from left to infinity\n",
    "\n",
    "Ef2 = np.zeros(len(z2), dtype='complex')\n",
    "Eb2 = np.zeros(len(z2), dtype='complex')\n",
    "rho3, tau3 = compute_rho_tau(n2, n3)\n",
    "Efint, Ebint = interface(rho3, tau3, Ef3[0], Eb3[0])\n",
    "Ef2, Eb2 = propagation(Efint, Ebint, n2, z2)    # +z because from right to left\n",
    "\n",
    "print(Efint)\n",
    "print(Ef2[-1])\n",
    "\n",
    "\n",
    "Ef1 = np.zeros(len(z1), dtype='complex')\n",
    "Eb1 = np.zeros(len(z1), dtype='complex')\n",
    "rho2, tau2 = compute_rho_tau(n1, n2)\n",
    "Efint, Ebint = interface(rho2, tau2, Ef2[0], Eb2[0])\n",
    "Ef1, Eb1 = propagation(Efint, Ebint, n1, z1)    # +z because from right to left\n",
    "\n",
    "Ef0 = np.zeros(len(z0), dtype='complex')\n",
    "Eb0 = np.zeros(len(z0), dtype='complex')\n",
    "rho1, tau1 = compute_rho_tau(n0, n1)\n",
    "Efint, Ebint = interface(rho1, tau1, Ef1[0], Eb1[0])\n",
    "Ef0, Eb0 = propagation(Efint, Ebint, n0, z0)    # +z because from right to left\n",
    "\n",
    "E0 = (Ef0 + Eb0)\n",
    "E1 = (Ef1 + Eb1)\n",
    "E2 = (Ef2 + Eb2)\n",
    "E3 = (Ef3 + Eb3)\n",
    "\n",
    "\n",
    "Etot = np.concatenate((E0, E1, E2, E3))\n",
    "ztot = np.linspace(-l0, l1+l2+l3, 4500)\n",
    "\n",
    "# plt.plot(ztot, np.real(Etot))\n",
    "# plt.show()"
   ]
  },
  {
   "cell_type": "code",
   "execution_count": 179,
   "metadata": {},
   "outputs": [],
   "source": [
    "Evstime = np.zeros((len(t), len(Etot)))\n",
    "for i in range(len(t)):\n",
    "    Evstime[i] = np.real(Etot * exp[i])\n",
    "\n",
    "# plt.plot(ztot, np.real(Evstime[0]))\n",
    "# plt.show()"
   ]
  },
  {
   "cell_type": "code",
   "execution_count": 180,
   "metadata": {},
   "outputs": [],
   "source": [
    "fig, ax = plt.subplots()\n",
    "ax.set_xlabel(\"z [m]\")\n",
    "ax.set_ylabel(\"Electric Field [V/m]\")\n",
    "ax.set_title(\"Field in layered media\")\n",
    "ax.grid()\n",
    "ax.set_ylim(-3, 3)\n",
    "\n",
    "line, = ax.plot(ztot, Evstime[0], label=\"Non dispersive medium\")\n",
    "ax.legend()\n",
    "\n",
    "def anim(i):       \n",
    "    line.set_ydata(Evstime[i])\n",
    "    return line,\n",
    "\n",
    "ani = animation.FuncAnimation(fig, anim, frames=len(t),interval=50, repeat=True ,blit=False)\n",
    "plt.show()\n",
    "\n",
    "# writer = animation.PillowWriter(fps=15, metadata=dict(artist='Me'),bitrate=1800)\n",
    "# ani.save('layered2.gif', writer=writer)"
   ]
  }
 ],
 "metadata": {
  "kernelspec": {
   "display_name": "base",
   "language": "python",
   "name": "python3"
  },
  "language_info": {
   "codemirror_mode": {
    "name": "ipython",
    "version": 3
   },
   "file_extension": ".py",
   "mimetype": "text/x-python",
   "name": "python",
   "nbconvert_exporter": "python",
   "pygments_lexer": "ipython3",
   "version": "3.9.7"
  }
 },
 "nbformat": 4,
 "nbformat_minor": 2
}
