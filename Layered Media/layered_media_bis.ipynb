{
 "cells": [
  {
   "cell_type": "code",
   "execution_count": 6,
   "metadata": {},
   "outputs": [],
   "source": [
    "import numpy as np\n",
    "import matplotlib.pyplot as plt\n",
    "import matplotlib.animation as animation\n",
    "\n",
    "%matplotlib qt"
   ]
  },
  {
   "cell_type": "code",
   "execution_count": 7,
   "metadata": {},
   "outputs": [],
   "source": [
    "# Global constants\n",
    "pi = np.pi\n",
    "n0 = 1; e0 = 8.85e-12; mu0 = 4*np.pi*1e-7\n",
    "c = 1/np.sqrt(e0*mu0)\n",
    "\n",
    "# Pulse definition\n",
    "Nf = 100\n",
    "fc = 3e9         \n",
    "df = 1e9                                # Deviation frequency [Hz]\n",
    "B = (fc+df) - (fc-df)                   # Bandwidth [Hz]\n",
    "f = np.linspace(fc-df,fc+df,Nf)         # Frequency axis [Hz]\n",
    "w, wc = 2*np.pi*f, 2*np.pi*fc            # Pulsation axis & central pulsation\n",
    "sigma_w = 2*np.pi*0.2*df                # Standard deviation of pulsations\n",
    "\n",
    "A = (1/(np.sqrt(2*np.pi)*sigma_w)) * np.exp(-(w-wc)**2/(2*(sigma_w**2)))        # Amplitude distribution over frequencies (Gaussian)\n",
    "\n",
    "# Media parameters\n",
    "l0 = 1.5            # Length of medium 0 [m]\n",
    "k0 = w * n0 /c          # Wavenumber 0\n",
    "\n",
    "n1 = 1.2                # Refractive index of medium 1\n",
    "l1 = 1.0               # Length of medium 1 [m]\n",
    "k1 = w * n1 /c          # Wavenumber 1\n",
    "\n",
    "n2 = 1.7                # Refractive index of medium 2\n",
    "l2 = 1.5              # Length of medium 2 [m]\n",
    "k2 = w * n2 /c          # Wavenumber 2\n",
    "\n",
    "n3 = n0                 # Refractive index of medium 3\n",
    "l3 = 1.0              # Length of medium 3 [m]\n",
    "k3 = w * n3 /c          # Wavenumber 3\n",
    "\n",
    "# Axis\n",
    "Nz = 100           # Precision\n",
    "z0 = np.linspace(0,l0, int(l0*Nz))\n",
    "z1 = np.linspace(0,l1, int(l1*Nz))\n",
    "z2 = np.linspace(0,l2, int(l2*Nz))\n",
    "z3 = np.linspace(0,l3, int(l3*Nz))\n",
    "\n",
    "z = np.array([*z0, *z1 + l0, *z2 + (l0+l1), *z3 + (l0+l1+l2)])      # Global z coordinates\n"
   ]
  },
  {
   "cell_type": "code",
   "execution_count": 8,
   "metadata": {},
   "outputs": [],
   "source": [
    "# Useful functions definition\n",
    "rho     =   lambda n,np : (n-np)/(n+np)                                 # Return rho of interface n|np\n",
    "tau     =   lambda n,np : (2*n)/(n+np)                                  # Return tau of interface n|np\n",
    "gamma   =   lambda gammap, rho : (rho + gammap) / (1 + rho*gammap)      # Return gamma of interface rho: _ | gammap\n",
    "\n",
    "def interface(Efp, Ebp, tau, rho):        # Propagation from E' to E\n",
    "    Ef = (Efp + rho*Ebp) / tau\n",
    "    Eb = (rho*Efp + Ebp) / tau\n",
    "    return Ef, Eb\n",
    "\n",
    "def propagation(Ef0, Eb0, k, z):\n",
    "    Ef = Ef0 * np.exp(-1j*k*z)\n",
    "    Eb = Eb0 * np.exp(1j*k*z)\n",
    "    return Ef, Eb\n",
    "\n",
    "def gamma_propagation(gamma0, k, l):\n",
    "    return gamma0 * np.exp(-2*1j*k*l)       # Negative exponential because it is always used from right to left"
   ]
  },
  {
   "cell_type": "code",
   "execution_count": 9,
   "metadata": {},
   "outputs": [],
   "source": [
    "# Compute all useful parameters\n",
    "\n",
    "rho3 = rho(n2, n3)\n",
    "rho3p = rho(n3, n2)\n",
    "tau3 = tau(n2, n3)\n",
    "tau3p = tau(n3, n2)\n",
    "gamma3 = rho3\n",
    "\n",
    "rho2 = rho(n1, n2)      # left of interface\n",
    "rho2p = rho(n2, n1)     # right of interface\n",
    "tau2 = tau(n1, n2)\n",
    "tau2p = tau(n2, n1)\n",
    "\n",
    "rho1 = rho(n0, n1)      # left of interface\n",
    "rho1p = rho(n1, n0)     # right of interface\n",
    "tau1 = tau(n0, n1)\n",
    "tau1p= tau(n1, n0)\n"
   ]
  },
  {
   "cell_type": "code",
   "execution_count": 10,
   "metadata": {},
   "outputs": [],
   "source": [
    "t = np.linspace(0,1e-6,1000)\n",
    "\n",
    "E = np.zeros(len(z))\n",
    "E_time = np.zeros((len(t),len(E)))\n",
    "\n",
    "for i in range(len(t)):\n",
    "\n",
    "    for j in range(len(f)):\n",
    "        gamma2p = gamma_propagation(gamma3, k2[j], l2)\n",
    "        gamma2 = gamma(gamma2p, rho2)\n",
    "\n",
    "        gamma1p = gamma_propagation(gamma2, k1[j], l1)\n",
    "        gamma1 = gamma(gamma1p, rho1)\n",
    "\n",
    "        Ef0, Eb0 = propagation(1, gamma1, k0[j], z0)    # 0 and not gamma1?\n",
    "\n",
    "        Ef1_0, Eb1_0 = interface(Ef0[-1], Eb0[-1], tau1p, rho1p)\n",
    "        Ef1, Eb1 = propagation(Ef1_0, Eb1_0, k1[j], z1)\n",
    "\n",
    "        Ef2_0, Eb2_0 = interface(Ef1[-1], Eb1[-1], tau2p, rho2p)\n",
    "        Ef2, Eb2 = propagation(Ef2_0, Eb2_0, k2[j], z2)\n",
    "\n",
    "        Ef3_0, Eb3_0 = interface(Ef2[-1], Eb2[-1], tau3p, rho3p)\n",
    "        Ef3, Eb3 = propagation(Ef3_0, Eb3_0, k3[j], z3)\n",
    "\n",
    "        # Reflected waves should also be taken into account\n",
    "        \n",
    "\n",
    "        E = np.array([*(Ef0+Eb0), *(Ef1+Eb1), *(Ef2+Eb2), *(Ef3+Eb3)])\n",
    "\n",
    "        E_time[i] += A[j]*np.real(E*np.exp(1j*w[j]*t[i]))\n",
    "\n",
    "E_time /= np.max(E_time)"
   ]
  },
  {
   "cell_type": "code",
   "execution_count": 11,
   "metadata": {},
   "outputs": [
    {
     "name": "stdout",
     "output_type": "stream",
     "text": [
      "0.7223251004441213\n"
     ]
    }
   ],
   "source": [
    "print(E_time[0][0])"
   ]
  },
  {
   "cell_type": "code",
   "execution_count": 12,
   "metadata": {},
   "outputs": [],
   "source": [
    "c = [\"tab:orange\", \"tab:green\", \"tab:red\", \"tab:blue\"]\n",
    "\n",
    "fig, ax = plt.subplots()\n",
    "\n",
    "ax.set_xlabel(\"z [m]\")\n",
    "ax.set_ylabel(\"Electric Field [V/m]\")\n",
    "ax.grid()\n",
    "ax.set_ylim(-1.5, 1.5)\n",
    "\n",
    "line, = ax.plot(z, E_time[0])\n",
    "yrange = plt.gca().get_ylim()\n",
    "\n",
    "\n",
    "plt.fill_between(z0, yrange[0], yrange[1], color=c[1],alpha=0.3, label=r\"$n=1$\")\n",
    "plt.fill_between(l0+z1, yrange[0], yrange[1], color=c[0],alpha=0.3, label=r\"$n=$\"+str(n1))\n",
    "plt.fill_between(l0+l1+z2, yrange[0], yrange[1], color=c[2],alpha=0.3, label=r\"$n=$\"+str(n2))\n",
    "plt.fill_between(l0+l1+l2+z3, yrange[0], yrange[1], color=c[1],alpha=0.3)\n",
    "ax.legend(loc=\"upper right\")\n",
    "\n",
    "def anim(i):       \n",
    "    #line.set_ydata(compute_s(z,t[i]))  # update the data\n",
    "    line.set_ydata(E_time[i])\n",
    "    return line,\n",
    "\n",
    "ani = animation.FuncAnimation(fig, anim, frames=len(t),interval=200, repeat=True ,blit=False)\n",
    "plt.show()\n",
    "\n",
    "#writer = animation.PillowWriter(fps=15, metadata=dict(artist='Me'),bitrate=1800)\n",
    "#ani.save('layer_paquet_wave_1f.gif', writer=writer)"
   ]
  }
 ],
 "metadata": {
  "kernelspec": {
   "display_name": "base",
   "language": "python",
   "name": "python3"
  },
  "language_info": {
   "codemirror_mode": {
    "name": "ipython",
    "version": 3
   },
   "file_extension": ".py",
   "mimetype": "text/x-python",
   "name": "python",
   "nbconvert_exporter": "python",
   "pygments_lexer": "ipython3",
   "version": "3.9.7"
  }
 },
 "nbformat": 4,
 "nbformat_minor": 2
}
