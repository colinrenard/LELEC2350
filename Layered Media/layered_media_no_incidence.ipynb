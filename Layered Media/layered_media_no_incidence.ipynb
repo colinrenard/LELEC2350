{
 "cells": [
  {
   "cell_type": "code",
   "execution_count": 1,
   "metadata": {},
   "outputs": [],
   "source": [
    "import numpy as np\n",
    "import scipy as sp\n",
    "import matplotlib.pyplot as plt\n",
    "import matplotlib.animation as animation\n",
    "\n",
    "%matplotlib qt"
   ]
  },
  {
   "cell_type": "code",
   "execution_count": 2,
   "metadata": {},
   "outputs": [],
   "source": [
    "# Parameters definition\n",
    "\n",
    "c = 3e8\n",
    "pi = np.pi\n",
    "f = 1.0e10\n",
    "\n",
    "t = np.linspace(0, 100/f, 100)\n",
    "exp = np.exp(1j * 2 * pi * f * t)\n",
    "\n",
    "e0 = 8.85e-12\n",
    "mu0 = 4*pi*1e-7\n",
    "l0 = 15e-2\n",
    "n0 = 1\n",
    "eta0 = 377\n",
    "z0 = np.linspace(-l0, 0, 1500)\n",
    "\n",
    "n1 = 3\n",
    "e1 = n1**2 * e0\n",
    "l1 = 10e-2 \n",
    "z1 = np.linspace(0, l1, 1000)\n",
    "eta1 = eta0 / n1\n",
    "\n",
    "n2 = 1.5\n",
    "e2 = n2**2 * e0\n",
    "l2 = 5e-2\n",
    "z2 = np.linspace(0, l2, 500)\n",
    "eta2 = eta0 / n2\n",
    "\n",
    "n3 = 1\n",
    "e3 = n3**2 * e0\n",
    "l3 = 15e-2\n",
    "z3 = np.linspace(0, l3, 1500)\n",
    "eta3 = eta0 / n3"
   ]
  },
  {
   "cell_type": "code",
   "execution_count": 3,
   "metadata": {},
   "outputs": [],
   "source": [
    "def propagation(E0, H0, n, z, eta):\n",
    "    k = 2 * pi * f * n / c\n",
    "    print(k)\n",
    "    E = E0 * np.cos(k*z) - H0 * 1j * eta * np.sin(k*z)\n",
    "    H = - E0 * 1j * np.sin(k*z) / eta + H0 * np.cos(k*z)\n",
    "    return E, H "
   ]
  },
  {
   "cell_type": "code",
   "execution_count": 4,
   "metadata": {},
   "outputs": [],
   "source": [
    "# Recursive computation of the reflection coefficients.\n",
    "# p at the end of variables name indicates primus (value to the right of the interface)\n",
    "\n",
    "Gamma3 = (n2-n3)/(n2+n3)\n",
    "Gamma2p = Gamma3 * np.exp(-1j*2*pi*f*n2*l2/c)\n",
    "rho2 = (n1-n2)/(n1+n2)\n",
    "Gamma2 = (rho2 + Gamma2p) / (1 + rho2*Gamma2p)\n",
    "Gamma1p = Gamma2 * np.exp(-1j*2*pi*f*n1*l1/c)\n",
    "rho1 = (n0-n1)/(n0+n1)\n",
    "Gamma1 = (rho1 + Gamma1p) / (1 + rho1*Gamma1p)"
   ]
  },
  {
   "cell_type": "code",
   "execution_count": 5,
   "metadata": {},
   "outputs": [
    {
     "name": "stdout",
     "output_type": "stream",
     "text": [
      "209.43951023931953\n",
      "628.3185307179585\n",
      "314.15926535897927\n",
      "209.43951023931953\n"
     ]
    }
   ],
   "source": [
    "Ef = 1                                          # E+\n",
    "Eb = Gamma1                                     # E-\n",
    "\n",
    "E0 = (Ef + Eb)                               # Actual E field\n",
    "H0 = (Ef - Eb) / eta0                       # Actual H field\n",
    "\n",
    "E0, H0 = propagation(E0, H0, n0, z0, eta0)\n",
    "\n",
    "E1, H1 = propagation(E0[-1], H0[-1], n1, z1, eta1)\n",
    "\n",
    "E2, H2 = propagation(E1[-1], H1[-1], n2, z2, eta2)\n",
    "\n",
    "E3, H3 = propagation(E2[-1], H2[-1], n3, z3, eta3)\n"
   ]
  },
  {
   "cell_type": "code",
   "execution_count": 6,
   "metadata": {},
   "outputs": [],
   "source": [
    "Etot = np.concatenate((E0, E1, E2, E3))\n",
    "ztot = np.linspace(-l0, l0+l1+l2+l3, 4500)\n",
    "\n",
    "Evstime = np.zeros((len(t), len(Etot)))\n",
    "for i in range(len(t)):\n",
    "    Evstime[i] = np.real(Etot * exp[i])\n",
    "    \n",
    "\n",
    "plt.plot(ztot, Evstime[0])\n",
    "# plt.plot(ztot, Evstime[50])\n",
    "plt.show()"
   ]
  },
  {
   "cell_type": "code",
   "execution_count": 7,
   "metadata": {},
   "outputs": [],
   "source": [
    "# E0 = np.zeros(len(z0))\n",
    "\n",
    "# for i in t:\n",
    "#     E0[0] = np.sin(2*pi*f*i)\n",
    "#     H0[0] = 0\n",
    "#     E0 = propagation(E0)"
   ]
  },
  {
   "cell_type": "code",
   "execution_count": 8,
   "metadata": {},
   "outputs": [],
   "source": [
    "fig, ax = plt.subplots()\n",
    "ax.set_xlabel(\"z [m]\")\n",
    "ax.set_ylabel(\"Electric Field [V/m]\")\n",
    "ax.set_title(\"Field in layered media\")\n",
    "ax.grid()\n",
    "ax.set_ylim(-3, 3)\n",
    "\n",
    "line, = ax.plot(ztot, Evstime[0], label=\"Non dispersive medium\")\n",
    "ax.legend()\n",
    "\n",
    "def anim(i):       \n",
    "    line.set_ydata(Evstime[i])\n",
    "    return line,\n",
    "\n",
    "ani = animation.FuncAnimation(fig, anim, frames=len(t),interval=50, repeat=True ,blit=False)\n",
    "plt.show()\n",
    "\n",
    "# writer = animation.PillowWriter(fps=15, metadata=dict(artist='Me'),bitrate=1800)\n",
    "# ani.save('layered.gif', writer=writer)"
   ]
  }
 ],
 "metadata": {
  "kernelspec": {
   "display_name": "base",
   "language": "python",
   "name": "python3"
  },
  "language_info": {
   "codemirror_mode": {
    "name": "ipython",
    "version": 3
   },
   "file_extension": ".py",
   "mimetype": "text/x-python",
   "name": "python",
   "nbconvert_exporter": "python",
   "pygments_lexer": "ipython3",
   "version": "3.9.7"
  }
 },
 "nbformat": 4,
 "nbformat_minor": 2
}
