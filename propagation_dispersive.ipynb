{
 "cells": [
  {
   "cell_type": "markdown",
   "metadata": {},
   "source": [
    "## LELEC2350 - Simulation of a dispersive propagation\n",
    "### Mathieu Reniers (30322000) - Colin Renard (51002000)"
   ]
  },
  {
   "cell_type": "code",
   "execution_count": 2,
   "metadata": {},
   "outputs": [],
   "source": [
    "import numpy as np\n",
    "import matplotlib.pyplot as plt\n",
    "import matplotlib.animation as animation\n",
    "from numba import jit\n",
    "from tqdm.autonotebook import trange, tqdm\n",
    "%matplotlib qt"
   ]
  },
  {
   "cell_type": "markdown",
   "metadata": {},
   "source": [
    "#### 1. Useful parameters & Constants"
   ]
  },
  {
   "cell_type": "code",
   "execution_count": 18,
   "metadata": {},
   "outputs": [],
   "source": [
    "Nt = 200; Nz = int(1e4); Nf = 150       # Resolution in time - space - frequency of the simulation \n",
    "\n",
    "z = np.linspace(0,10,Nz)                # z-axis [m]\n",
    "fc = 3e9                                # Central frequency [Hz]\n",
    "df = 1e9                                # Deviation frequency [Hz]\n",
    "f = np.linspace(fc-df,fc+df,Nf)         # Frequency axis [Hz]\n",
    "B = (fc+df) - (fc-df)                   # Bandwidth [Hz]\n",
    "t = np.linspace(0,100*(1/fc),Nt)        # Time axis [s]\n",
    "w,wc = 2*np.pi*f, 2*np.pi*fc            # Pulsation axis & central pulsation\n",
    "sigma_w = 2*np.pi*0.2*df                # Standard deviation of pulsations\n",
    "\n",
    "A = (1/(np.sqrt(2*np.pi)*sigma_w)) * np.exp(-(w-wc)**2/(2*sigma_w**2))     # Amplitude distribution over frequences (Gaussian)\n",
    "\n",
    "mu = 4*np.pi*1e-7                       # Permeability [H/m]\n",
    "epsilon = 8.85*1e-12                    # Permittivity [F/m]\n",
    "c = 1/(np.sqrt(mu*epsilon))             # Speed of light [m/s]"
   ]
  },
  {
   "cell_type": "markdown",
   "metadata": {},
   "source": [
    "#### 2. Non-dispersive case"
   ]
  },
  {
   "cell_type": "code",
   "execution_count": 23,
   "metadata": {},
   "outputs": [],
   "source": [
    "k = w/c # Wavenumbers                    \n",
    "\n",
    "@jit(nopython=True,error_model=\"numpy\") # Optimization\n",
    "def compute_E_non_dispersive(z,t):\n",
    "    E = np.zeros(len(z))\n",
    "    for i in range(len(z)):\n",
    "        E[i] = 2 * B *  np.real(np.sum(A*np.exp(-1j*k*z[i])*np.exp(1j*w*t))) # (1/pi) dw = 2 df\n",
    "    return E"
   ]
  },
  {
   "cell_type": "code",
   "execution_count": 24,
   "metadata": {},
   "outputs": [
    {
     "data": {
      "application/vnd.jupyter.widget-view+json": {
       "model_id": "9b9124f766c440e190ed7596d75ec9e5",
       "version_major": 2,
       "version_minor": 0
      },
      "text/plain": [
       "time:   0%|          | 0/200 [00:00<?, ?it/s]"
      ]
     },
     "metadata": {},
     "output_type": "display_data"
    }
   ],
   "source": [
    "E_non_dispersive = np.zeros((Nt,Nz))\n",
    "for i in tqdm(range(Nt), \"time\"):\n",
    "    E_non_dispersive[i] = compute_E_non_dispersive(z,t[i])"
   ]
  },
  {
   "cell_type": "markdown",
   "metadata": {},
   "source": [
    "#### 3. Dispersive case (WG case)"
   ]
  },
  {
   "cell_type": "code",
   "execution_count": 25,
   "metadata": {},
   "outputs": [],
   "source": [
    "wc_disp = 2*np.pi * 2e9                                             # Cutoff frequency of the waveguide\n",
    "k_disp = (1/c) * np.sqrt((w+wc_disp)) * np.sqrt((w-wc_disp))        # Wavenumver (f) \n",
    "\n",
    "@jit(nopython=True,error_model=\"numpy\") # Optimization\n",
    "def compute_E_dispersive(z,t):\n",
    "    # Computes s for an array z at a particular time t\n",
    "    E = np.zeros(len(z))\n",
    "    for i in range(len(z)):\n",
    "        E[i] =  2 * B * np.real(np.sum(A*np.exp(-1j*k_disp*z[i])*np.exp(1j*w*t)))\n",
    "    return E"
   ]
  },
  {
   "cell_type": "code",
   "execution_count": 26,
   "metadata": {},
   "outputs": [
    {
     "data": {
      "application/vnd.jupyter.widget-view+json": {
       "model_id": "7e9ab1168ad545bb8a33c891234e4618",
       "version_major": 2,
       "version_minor": 0
      },
      "text/plain": [
       "time:   0%|          | 0/200 [00:00<?, ?it/s]"
      ]
     },
     "metadata": {},
     "output_type": "display_data"
    }
   ],
   "source": [
    "E_dispersive = np.zeros((Nt,Nz))\n",
    "for i in tqdm(range(Nt), \"time\"):\n",
    "    E_dispersive[i] = compute_E_dispersive(z,t[i])"
   ]
  },
  {
   "cell_type": "markdown",
   "metadata": {},
   "source": [
    "#### 4. Animation"
   ]
  },
  {
   "cell_type": "code",
   "execution_count": 28,
   "metadata": {},
   "outputs": [],
   "source": [
    "fig, ax = plt.subplots()\n",
    "ax.set_xlabel(\"z [m]\")\n",
    "ax.set_ylabel(\"Electric Field [V/m]\")\n",
    "ax.set_title(\"Propagation in a dispersive and in a non-dispersive medium\")\n",
    "ax.grid()\n",
    "\n",
    "line, = ax.plot(z, E_non_dispersive[0], label=\"Non dispersive medium\")\n",
    "line2, = ax.plot(z, E_dispersive[0], label=\"Dispersive medium (WG)\")\n",
    "ax.legend()\n",
    "\n",
    "def anim(i):       \n",
    "    #line.set_ydata(compute_s(z,t[i]))  # update the data\n",
    "    line.set_ydata(E_non_dispersive[i])\n",
    "    line2.set_ydata(E_dispersive[i])\n",
    "    return line,\n",
    "\n",
    "ani = animation.FuncAnimation(fig, anim, frames=len(t),interval=50, repeat=True ,blit=False)\n",
    "plt.show()\n",
    "\n",
    "writer = animation.PillowWriter(fps=15, metadata=dict(artist='Me'),bitrate=1800)\n",
    "ani.save('scatter.gif', writer=writer)"
   ]
  }
 ],
 "metadata": {
  "kernelspec": {
   "display_name": "base",
   "language": "python",
   "name": "python3"
  },
  "language_info": {
   "codemirror_mode": {
    "name": "ipython",
    "version": 3
   },
   "file_extension": ".py",
   "mimetype": "text/x-python",
   "name": "python",
   "nbconvert_exporter": "python",
   "pygments_lexer": "ipython3",
   "version": "3.9.13"
  }
 },
 "nbformat": 4,
 "nbformat_minor": 2
}
