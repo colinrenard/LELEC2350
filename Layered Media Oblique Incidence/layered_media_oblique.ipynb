{
 "cells": [
  {
   "cell_type": "markdown",
   "metadata": {},
   "source": [
    "## Simulation of fields penetrating two slabs with oblique incidence\n",
    "### Colin Renard (50012000) & Mathieu Reniers (30322000)"
   ]
  },
  {
   "cell_type": "code",
   "execution_count": 2,
   "metadata": {},
   "outputs": [],
   "source": [
    "import numpy as np\n",
    "import matplotlib.pyplot as plt\n",
    "import matplotlib.animation as animation\n",
    "from numba import jit\n",
    "from tqdm.autonotebook import trange, tqdm\n",
    "%matplotlib qt"
   ]
  },
  {
   "cell_type": "markdown",
   "metadata": {},
   "source": [
    "#### Parameters"
   ]
  },
  {
   "cell_type": "code",
   "execution_count": 3,
   "metadata": {},
   "outputs": [],
   "source": [
    "Nf = 250 \n",
    "fc = 3e9         \n",
    "df = 0.5e9                                # Deviation frequency [Hz]\n",
    "B = (fc+df) - (fc-df)                   # Bandwidth [Hz]\n",
    "f = np.linspace(fc-df,fc+df,Nf)         # Frequency axis [Hz]\n",
    "w,wc = 2*np.pi*f, 2*np.pi*fc            # Pulsation axis & central pulsation\n",
    "sigma_w = 2*np.pi*0.2*df                # Standard deviation of pulsations\n",
    "\n",
    "A = (1/(np.sqrt(2*np.pi)*sigma_w)) * np.exp(-(w-wc)**2/(2*(sigma_w**2)))   # Amplitude distribution over frequences (Gaussian)\n",
    "#A = A*np.sqrt(4*sigma_w*(np.pi**(3/2)))  \n",
    "#A = np.array([0,0,2,0,0])\n",
    "#plt.plot(f,A)\n",
    "\n",
    "# Vacuum\n",
    "n0 = 1; e0 = 8.85e-12; mu0 = 4*np.pi*1e-7\n",
    "c = 1/np.sqrt(e0*mu0)\n",
    "\n",
    "# Media\n",
    "\n",
    "a = 0.7                 # Scaling factor\n",
    "\n",
    "l0 = 2*a              # Length of medium 0 [m]\n",
    "k0 = w * n0 /c          # Wavenumber 0\n",
    "\n",
    "n1 = 1.2                # Refractive index of medium 1\n",
    "l1 = 2.5*a              # Length of medium 1 [m]\n",
    "k1 = w * n1 /c          # Wavenumber 1\n",
    "\n",
    "n2 = 1.7                # Refractive index of medium 2\n",
    "l2 = 2.5*a              # Length of medium 2 [m]\n",
    "k2 = w * n2 /c          # Wavenumber 2\n",
    "\n",
    "n3 = n0                 # Refractive index of medium 3\n",
    "l3 = 2*a              # Length of medium 3 [m]\n",
    "k3 = w * n3 /c          # Wavenumber 3\n",
    "\n",
    "# Axis\n",
    "Nz = 200           # Precision\n",
    "z0 = np.linspace(0,l0, int(l0*Nz))\n",
    "z1 = np.linspace(0,l1, int(l1*Nz))\n",
    "z2 = np.linspace(0,l2, int(l2*Nz))\n",
    "z3 = np.linspace(0,l3, int(l3*Nz))\n",
    "\n",
    "z = np.array([*z0, *z1 + l0, *z2 + (l0+l1), *z3 + (l0+l1+l2)])"
   ]
  },
  {
   "cell_type": "markdown",
   "metadata": {},
   "source": [
    "#### Useful functions"
   ]
  },
  {
   "cell_type": "code",
   "execution_count": 4,
   "metadata": {},
   "outputs": [],
   "source": [
    "rho     =   lambda n,np : (n-np)/(n+np)                                 # Return rho of interface n|np\n",
    "tau     =   lambda n,np : (2*n)/(n+np)                                  # Return tau of interface n|np\n",
    "gamma   =   lambda gammap, rho : (rho + gammap) / (1 + rho*gammap)      # Return gamma of interface rho: _ | gammap\n",
    "\n",
    "# Compute gamma in the same media at next interface (R -> L)\n",
    "def prev_gamma(gamma, k, l):\n",
    "    gammap = gamma*np.exp(-2*1j*k*l)\n",
    "    return gammap\n",
    "\n",
    "# Computation of gamma (1D array for each frequency)\n",
    "gamma_3 = gamma(0,rho(n2,n3))\n",
    "gamma_2p = prev_gamma(gamma_3,k2,l2)\n",
    "gamma_2 = gamma(gamma_2p,rho(n1,n2))\n",
    "gamma_1p = prev_gamma(gamma_2,k1,l1)\n",
    "gamma_1 = gamma(gamma_1p,rho(n0,n1))\n",
    "gamma_start = prev_gamma(gamma_1,k0,l0)\n",
    "\n",
    "def interface_R2L(Ep_,Em_,n,np):\n",
    "    rho_i = rho(n,np)\n",
    "    tau_i = tau(n,np)\n",
    "    Ep = (1/tau_i) * (1 * Ep_ + rho_i * Em_)\n",
    "    Em = (1/tau_i) * (rho_i * Ep_ + 1 * Em_)\n",
    "    return Ep,Em\n",
    "\n",
    "def interface_L2R(Ep,Em,n,np):\n",
    "    rho_ip = rho(np,n)                              # /!\\ Special definitions in Orfanidis\n",
    "    tau_ip = tau(np,n)                              # /!\\ Special definitions in Orfanidis\n",
    "    Ep_ = (1/tau_ip) * (1 * Ep + rho_ip * Em)\n",
    "    Em_ = (1/tau_ip) * (rho_ip * Ep + 1 * Em)\n",
    "    return Ep_,Em_\n",
    "\n",
    "\n",
    "def propagation_R2L(Ep2,Em2,k,l):\n",
    "    Ep1 = np.exp(1j*k*l) * Ep2\n",
    "    Em1 = np.exp(-1j*k*l) * Em2\n",
    "    return Ep1,Em1\n",
    "\n",
    "def propagation_L2R(Ep1,Em1,k,l):\n",
    "    Ep2 = np.exp(-1j*k*l) * Ep1\n",
    "    Em2 = np.exp(1j*k*l) * Em1\n",
    "    return Ep2,Em2\n"
   ]
  },
  {
   "cell_type": "markdown",
   "metadata": {},
   "source": [
    "#### Computation"
   ]
  },
  {
   "cell_type": "code",
   "execution_count": 5,
   "metadata": {},
   "outputs": [
    {
     "data": {
      "application/vnd.jupyter.widget-view+json": {
       "model_id": "629b82e6514549b2929706ac30d5346d",
       "version_major": 2,
       "version_minor": 0
      },
      "text/plain": [
       "Time instant:   0%|          | 0/200 [00:00<?, ?it/s]"
      ]
     },
     "metadata": {},
     "output_type": "display_data"
    }
   ],
   "source": [
    "Nt = 200\n",
    "t = np.linspace(0,200*1/fc,Nt)\n",
    "\n",
    "E = np.zeros(len(z))\n",
    "E_time = np.zeros((len(t),len(E)))\n",
    "\n",
    "for i in tqdm(range(len(t)), \"Time instant\"):\n",
    "\n",
    "    # Superposition principle\n",
    "    for j in range(len(f)):\n",
    "\n",
    "        E0p_start = 1\n",
    "        E0m_start = 1*gamma_start[j]\n",
    "       \n",
    "        #E0p, E0m = propagation_R2L(E0p_start, E0m_start, k0[j], np.flip(z0))     # Waves in (0)\n",
    "        E0p, E0m = propagation_L2R(E0p_start, E0m_start, k0[j], z0)     # Waves in (0)\n",
    "\n",
    "        E1p_l, E1m_l = interface_L2R(E0p[-1],E0m[-1],n0,n1)             # Right value at interface I\n",
    "        E1p, E1m = propagation_L2R(E1p_l, E1m_l, k1[j], z1)             # Waves in (1)\n",
    "\n",
    "        E2p_l, E2m_l = interface_L2R(E1p[-1],E1m[-1],n1,n2)             # Right value at interface II\n",
    "        E2p, E2m = propagation_L2R(E2p_l, E2m_l, k2[j], z2)             # Waves in (2)\n",
    "\n",
    "        E3p_l, E3m_l = interface_L2R(E2p[-1],E2m[-1],n2,n3)             # Right value at interface III\n",
    "        E3p, E3m = propagation_L2R(E3p_l, E3m_l, k3[j],z3)              # Waves in (3)\n",
    "\n",
    "        E = np.array([*(E0p+E0m) , *(E1p+E1m) , *(E2p+E2m) , *(E3p+E3m) ])\n",
    "    \n",
    "        E_time[i] += A[j]*np.real(E*np.exp(1j*w[j]*t[i]))\n",
    "\n",
    "E_time /= np.max(E_time)"
   ]
  },
  {
   "cell_type": "markdown",
   "metadata": {},
   "source": [
    "#### Plot at a given instant"
   ]
  },
  {
   "cell_type": "code",
   "execution_count": 11,
   "metadata": {},
   "outputs": [],
   "source": [
    "c = [\"tab:orange\", \"tab:green\", \"tab:red\", \"tab:blue\"]\n",
    "fig, ax = plt.subplots()\n",
    "\n",
    "line, = ax.plot(z, E_time[0])\n",
    "\n",
    "yrange = plt.gca().get_ylim()\n",
    "\n",
    "plt.fill_between(z0, yrange[0], yrange[1], color=c[1],alpha=0.3, label=r\"$n=1$\")\n",
    "plt.fill_between(l0+z1, yrange[0], yrange[1], color=c[0],alpha=0.3, label=r\"$n=$\"+str(n1))\n",
    "plt.fill_between(l0+l1+z2, yrange[0], yrange[1], color=c[2],alpha=0.3, label=r\"$n=$\"+str(n2))\n",
    "plt.fill_between(l0+l1+l2+z3, yrange[0], yrange[1], color=c[1],alpha=0.3)\n",
    "plt.show()"
   ]
  },
  {
   "cell_type": "markdown",
   "metadata": {},
   "source": [
    "#### Animation"
   ]
  },
  {
   "cell_type": "code",
   "execution_count": 6,
   "metadata": {},
   "outputs": [],
   "source": [
    "c = [\"tab:orange\", \"tab:green\", \"tab:red\", \"tab:blue\"]\n",
    "\n",
    "fig, ax = plt.subplots()\n",
    "\n",
    "ax.set_xlabel(\"z [m]\")\n",
    "ax.set_ylabel(\"Electric Field [V/m]\")\n",
    "ax.grid()\n",
    "\n",
    "line, = ax.plot(z, E_time[0])\n",
    "yrange = plt.gca().get_ylim()\n",
    "\n",
    "\n",
    "plt.fill_between(z0, yrange[0], yrange[1], color=c[1],alpha=0.3, label=r\"$n=1$\")\n",
    "plt.fill_between(l0+z1, yrange[0], yrange[1], color=c[0],alpha=0.3, label=r\"$n=$\"+str(n1))\n",
    "plt.fill_between(l0+l1+z2, yrange[0], yrange[1], color=c[2],alpha=0.3, label=r\"$n=$\"+str(n2))\n",
    "plt.fill_between(l0+l1+l2+z3, yrange[0], yrange[1], color=c[1],alpha=0.3)\n",
    "ax.legend(loc=\"upper right\")\n",
    "\n",
    "def anim(i):       \n",
    "    #line.set_ydata(compute_s(z,t[i]))  # update the data\n",
    "    line.set_ydata(E_time[i])\n",
    "    return line,\n",
    "\n",
    "ani = animation.FuncAnimation(fig, anim, frames=len(t),interval=100, repeat=True ,blit=False)\n",
    "plt.show()\n",
    "\n",
    "#writer = animation.PillowWriter(fps=10, metadata=dict(artist='Me'),bitrate=1800)\n",
    "#ani.save('layer_paquet_wave_vf_othersparam2.gif', writer=writer)"
   ]
  }
 ],
 "metadata": {
  "kernelspec": {
   "display_name": "base",
   "language": "python",
   "name": "python3"
  },
  "language_info": {
   "codemirror_mode": {
    "name": "ipython",
    "version": 3
   },
   "file_extension": ".py",
   "mimetype": "text/x-python",
   "name": "python",
   "nbconvert_exporter": "python",
   "pygments_lexer": "ipython3",
   "version": "3.9.13"
  }
 },
 "nbformat": 4,
 "nbformat_minor": 2
}
