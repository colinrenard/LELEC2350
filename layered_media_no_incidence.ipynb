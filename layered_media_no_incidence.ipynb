{
 "cells": [
  {
   "cell_type": "code",
   "execution_count": 1,
   "metadata": {},
   "outputs": [],
   "source": [
    "import numpy as np\n",
    "import scipy as sp\n",
    "import matplotlib.pyplot as plt"
   ]
  },
  {
   "cell_type": "code",
   "execution_count": 8,
   "metadata": {},
   "outputs": [],
   "source": [
    "# Parameters definition\n",
    "\n",
    "c = 3e8\n",
    "pi = np.pi\n",
    "f = 1e9\n",
    "\n",
    "e0 = 8.85e-12\n",
    "mu0 = 4*pi*1e-7\n",
    "n0 = 1\n",
    "\n",
    "n1 = 1.5\n",
    "e1 = n1**2 * e0\n",
    "l1 = 10e-2 \n",
    "\n",
    "n2 = 1.3\n",
    "e2 = n2**2 * e0\n",
    "l2 = 5e-2\n",
    "\n",
    "n3 = 1\n",
    "e3 = n3**2 * e0"
   ]
  },
  {
   "cell_type": "code",
   "execution_count": 11,
   "metadata": {},
   "outputs": [],
   "source": [
    "# Recursive computation of the reflection coefficients.\n",
    "# p at the end of variables name indicates primus (value to the right of the interface)\n",
    "\n",
    "Gamma3 = (n2-n3)/(n2+n3)\n",
    "Gamma2p = Gamma3 * np.exp(-1j*2*pi*f*n2*l2/c)\n",
    "rho2 = (n1-n2)/(n1+n2)\n",
    "Gamma2 = (rho2 + Gamma2p) / (1 + rho2*Gamma2p)\n",
    "Gamma1p = Gamma2 * np.exp(-1j*2*pi*f*n1*l1/c)\n",
    "rho1 = (n0-n1)/(n0+n1)\n",
    "Gamma1 = (rho1 + Gamma1p) / (1 + rho1*Gamma1p)"
   ]
  },
  {
   "cell_type": "code",
   "execution_count": null,
   "metadata": {},
   "outputs": [],
   "source": []
  }
 ],
 "metadata": {
  "kernelspec": {
   "display_name": "base",
   "language": "python",
   "name": "python3"
  },
  "language_info": {
   "codemirror_mode": {
    "name": "ipython",
    "version": 3
   },
   "file_extension": ".py",
   "mimetype": "text/x-python",
   "name": "python",
   "nbconvert_exporter": "python",
   "pygments_lexer": "ipython3",
   "version": "3.9.7"
  }
 },
 "nbformat": 4,
 "nbformat_minor": 2
}
