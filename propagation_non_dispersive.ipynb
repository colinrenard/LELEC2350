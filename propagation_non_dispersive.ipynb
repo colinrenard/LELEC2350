{
 "cells": [
  {
   "cell_type": "markdown",
   "metadata": {},
   "source": [
    "### LELEC2350 - Simulation of a non-dispersive propagation"
   ]
  },
  {
   "cell_type": "code",
   "execution_count": 1,
   "metadata": {},
   "outputs": [],
   "source": [
    "import numpy as np\n",
    "import matplotlib.pyplot as plt\n",
    "import matplotlib.animation as animation\n",
    "%matplotlib qt"
   ]
  },
  {
   "cell_type": "markdown",
   "metadata": {},
   "source": [
    "#### 1. Parameters"
   ]
  },
  {
   "cell_type": "code",
   "execution_count": 2,
   "metadata": {},
   "outputs": [],
   "source": [
    "Nt = 200; Nz = 1000                     # Resolutions of the simulation\n",
    "z = np.linspace(0,10,Nz)                # z-axis [m]\n",
    "fc = 1e9                                # Central frequency [Hz]\n",
    "df = fc*0.1                             # Deviation frequency [Hz]\n",
    "Nf = 500                                # Number of frequencies\n",
    "f = np.linspace(fc-df,fc+df,Nf)         # Frequency axis [Hz]\n",
    "t = np.linspace(0,100*(1/fc),Nt)        # Time axis [s]\n",
    "\n",
    "w,wc = 2*np.pi*f, 2*np.pi*fc            # Pulsation axis & Central pulsation\n",
    "sigma_w = 2*np.pi*0.5*df                # Standard deviation of pulsations\n",
    "A = (1/(np.sqrt(2*np.pi)*sigma_w)) * np.exp(-(w-wc)**2/(2*sigma_w**2))      # Amplitude distribution over frequences (Gaussian)\n",
    "k = w*np.sqrt(4*np.pi*1e-7*8.85*1e-12)                                      # Wavenumber"
   ]
  },
  {
   "cell_type": "markdown",
   "metadata": {},
   "source": [
    "#### 2. Animation"
   ]
  },
  {
   "cell_type": "code",
   "execution_count": 3,
   "metadata": {},
   "outputs": [],
   "source": [
    "fig, ax = plt.subplots()\n",
    "ax.set_xlabel(\"z [m]\")\n",
    "ax.set_title(\"Propagation in a non-dispersive medium\")\n",
    "\n",
    "def compute_s(z,t):\n",
    "    # Computes s for an array z at a particular time t\n",
    "    s = np.zeros(len(z))\n",
    "    for i in range(len(z)):\n",
    "        s[i] = np.real(np.sum(A*np.exp(-1j*k*z[i])*np.exp(1j*w*t)))\n",
    "    return s\n",
    "\n",
    "line, = ax.plot(z, compute_s(z,t[0]))\n",
    "\n",
    "def anim(i):       \n",
    "    line.set_ydata(compute_s(z,t[i]))  # update the data\n",
    "    return line, \n",
    "\n",
    "ani = animation.FuncAnimation(fig, anim,\n",
    "                              frames=len(t),interval=1, repeat=True ,blit=False)\n",
    "plt.show()"
   ]
  }
 ],
 "metadata": {
  "kernelspec": {
   "display_name": "base",
   "language": "python",
   "name": "python3"
  },
  "language_info": {
   "codemirror_mode": {
    "name": "ipython",
    "version": 3
   },
   "file_extension": ".py",
   "mimetype": "text/x-python",
   "name": "python",
   "nbconvert_exporter": "python",
   "pygments_lexer": "ipython3",
   "version": "3.9.13"
  }
 },
 "nbformat": 4,
 "nbformat_minor": 2
}
